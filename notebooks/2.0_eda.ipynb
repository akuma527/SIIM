{
 "metadata": {
  "language_info": {
   "codemirror_mode": {
    "name": "ipython",
    "version": 3
   },
   "file_extension": ".py",
   "mimetype": "text/x-python",
   "name": "python",
   "nbconvert_exporter": "python",
   "pygments_lexer": "ipython3",
   "version": "3.9.4"
  },
  "orig_nbformat": 2,
  "kernelspec": {
   "name": "python394jvsc74a57bd054d44e526c96a56e4f87abbed44096b99eaf3a27b55e9127cd377ca0a4b11427",
   "display_name": "Python 3.9.4 64-bit ('SIIM_ENV': venv)"
  },
  "metadata": {
   "interpreter": {
    "hash": "54d44e526c96a56e4f87abbed44096b99eaf3a27b55e9127cd377ca0a4b11427"
   }
  }
 },
 "nbformat": 4,
 "nbformat_minor": 2,
 "cells": [
  {
   "cell_type": "code",
   "execution_count": 1,
   "metadata": {},
   "outputs": [],
   "source": [
    "import pandas as pd"
   ]
  },
  {
   "cell_type": "code",
   "execution_count": null,
   "metadata": {},
   "outputs": [],
   "source": []
  }
 ]
}